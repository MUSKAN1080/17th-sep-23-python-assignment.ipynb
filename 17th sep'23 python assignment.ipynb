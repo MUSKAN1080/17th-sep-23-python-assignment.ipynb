{
 "cells": [
  {
   "cell_type": "code",
   "execution_count": 1,
   "metadata": {},
   "outputs": [],
   "source": [
    "#for loop"
   ]
  },
  {
   "cell_type": "code",
   "execution_count": 2,
   "metadata": {},
   "outputs": [
    {
     "name": "stdout",
     "output_type": "stream",
     "text": [
      "1\n",
      "2\n",
      "3\n",
      "4\n",
      "5\n",
      "6\n",
      "7\n",
      "8\n",
      "9\n",
      "10\n"
     ]
    }
   ],
   "source": [
    "#1.Write a Python program to print numbers from 1 to 10 using a for loop.\n",
    "for i in range(1,11):\n",
    "    print(i)"
   ]
  },
  {
   "cell_type": "code",
   "execution_count": 3,
   "metadata": {},
   "outputs": [],
   "source": [
    "#2.Explain the difference between a for loop and a while loop in Python.\n",
    "\n",
    "# for loop is used for iterating over a sequence (e.g., a list ,tuple,string,range).\n",
    "# while loop: Used for executing a block of code repeatedly as long as a specified condition is true.\n",
    "\n",
    "#Syntax:\n",
    "\n",
    "#for loop: Iterates over a sequence.\n",
    "#for item in sequence:\n",
    "    # Do something with item\n",
    "\n",
    "#while loop: Executes a block of code as long as the specified condition is true.\n",
    "#while condition:\n",
    "    # Do something\n",
    "\n",
    "#Initialization:\n",
    "\n",
    "#for loop: No explicit initialization is required. The loop variable is automatically assigned each value in the sequence.\n",
    "#while loop: Requires explicit initialization of loop variables before the loop and potentially updating them within the loop.\n",
    "\n",
    "#Iteration Control:\n",
    "\n",
    "#for loop: The loop iterates over a sequence until the sequence is exhausted.\n",
    "#while loop: The loop continues until the specified condition becomes false.\n",
    "#Use Cases:\n",
    "\n",
    "#for loop: Ideal when the number of iterations is known or when iterating over a sequence.\n",
    "#while loop: Useful when the number of iterations is not known beforehand or when you need to repeat a block of code until a specific condition is met.\n",
    "#Infinite Loops:\n",
    "\n",
    "#for loop: Less prone to infinite loops since it iterates over a finite sequence.\n",
    "#while loop: More prone to infinite loops if the condition never becomes false, requiring careful handling of loop variables and conditions."
   ]
  },
  {
   "cell_type": "code",
   "execution_count": 4,
   "metadata": {},
   "outputs": [
    {
     "name": "stdout",
     "output_type": "stream",
     "text": [
      "The sum of all no. from 1 to 100 is:  5050\n"
     ]
    }
   ],
   "source": [
    "#3. Write a Python program to calculate the sum of all numbers from 1 to 100 using a for loop.\n",
    "sum = 0\n",
    "for i in range(1,101):\n",
    "    sum+=i\n",
    "print(\"The sum of all no. from 1 to 100 is: \",sum) "
   ]
  },
  {
   "cell_type": "code",
   "execution_count": 5,
   "metadata": {},
   "outputs": [
    {
     "name": "stdout",
     "output_type": "stream",
     "text": [
      "1\n",
      "2\n",
      "3\n",
      "4\n",
      "5\n"
     ]
    }
   ],
   "source": [
    "#4.How do you iterate through a list using a for loop in Python?\n",
    "\n",
    "my_list = [1,2,3,4,5]\n",
    "for item in my_list:\n",
    "    print(item)"
   ]
  },
  {
   "cell_type": "code",
   "execution_count": 6,
   "metadata": {},
   "outputs": [
    {
     "name": "stdout",
     "output_type": "stream",
     "text": [
      "The product of all elements in the list is: 120\n"
     ]
    }
   ],
   "source": [
    "#5.Write a Python program to find the product of all elements in a list using a for loop.\n",
    "\n",
    "my_list = [1, 2, 3, 4, 5]\n",
    "product = 1\n",
    "for num in my_list:\n",
    "    product *= num\n",
    "print(\"The product of all elements in the list is:\", product)\n"
   ]
  },
  {
   "cell_type": "code",
   "execution_count": 7,
   "metadata": {},
   "outputs": [
    {
     "name": "stdout",
     "output_type": "stream",
     "text": [
      "2\n",
      "4\n",
      "6\n",
      "8\n",
      "10\n",
      "12\n",
      "14\n",
      "16\n",
      "18\n",
      "20\n"
     ]
    }
   ],
   "source": [
    "#6.Create a Python program that prints all even numbers from 1 to 20 using a for loop.\n",
    "for i in range(2,21,2):\n",
    "    print(i)"
   ]
  },
  {
   "cell_type": "code",
   "execution_count": 8,
   "metadata": {},
   "outputs": [
    {
     "name": "stdout",
     "output_type": "stream",
     "text": [
      "The factorial of 3 is 6\n"
     ]
    }
   ],
   "source": [
    "#7.Write a Python program that calculates the factorial of a number using a for loop.\n",
    "num=int(input(\"Enter a number to find factorial: \"))\n",
    "factorial=1\n",
    "\n",
    "if num<0:\n",
    "    print(\"factorial is not defined or negative number\")\n",
    "elif num ==0:\n",
    "    print(\"The factorial of 0 is 1 \")\n",
    "else:\n",
    "    for i in range(1,num+1):\n",
    "        factorial *=i\n",
    "    print(f\"The factorial of {num} is {factorial}\")   "
   ]
  },
  {
   "cell_type": "code",
   "execution_count": 9,
   "metadata": {},
   "outputs": [
    {
     "name": "stdout",
     "output_type": "stream",
     "text": [
      "h\n",
      "e\n",
      "l\n",
      "l\n",
      "o\n",
      " \n",
      "w\n",
      "o\n",
      "r\n",
      "l\n",
      "d\n"
     ]
    }
   ],
   "source": [
    "#8.How can you iterate through the characters of a string using a for loop in Python?\n",
    "my_string=\"hello world\"\n",
    "for i in my_string:\n",
    "    print(i)"
   ]
  },
  {
   "cell_type": "code",
   "execution_count": 10,
   "metadata": {},
   "outputs": [
    {
     "name": "stdout",
     "output_type": "stream",
     "text": [
      "the largest number in the list is : 105\n"
     ]
    }
   ],
   "source": [
    "#9.Write a Python program to find the largest number in a list using a for loop.\n",
    "my_list=[10,20,4,45,99,105,2,80]\n",
    "largest=my_list[0]\n",
    "\n",
    "for num in my_list:\n",
    "    if num>largest:\n",
    "        largest=num\n",
    "print(\"the largest number in the list is :\", largest)       "
   ]
  },
  {
   "cell_type": "code",
   "execution_count": 11,
   "metadata": {},
   "outputs": [
    {
     "name": "stdout",
     "output_type": "stream",
     "text": [
      "Fibonacci sequence up to 9 :\n",
      "0\n",
      "1\n",
      "1\n",
      "2\n",
      "3\n",
      "5\n",
      "8\n"
     ]
    }
   ],
   "source": [
    "#10.Create a Python program that prints the Fibonacci sequence up to a specified limit using a for loop.\n",
    "limit = int(input(\"Enter the limit for the Fibonacci sequence: \"))\n",
    "\n",
    "# Initialize the first two Fibonacci numbers\n",
    "fibonacci = [0, 1]\n",
    "\n",
    "# Calculate and print Fibonacci sequence up to the limit\n",
    "for i in range(2, limit):\n",
    "    next_num = fibonacci[i - 1] + fibonacci[i - 2]\n",
    "    if next_num > limit:\n",
    "        break\n",
    "    fibonacci.append(next_num)\n",
    "\n",
    "print(\"Fibonacci sequence up to\", limit, \":\")\n",
    "for num in fibonacci:\n",
    "    print(num)"
   ]
  },
  {
   "cell_type": "code",
   "execution_count": 12,
   "metadata": {},
   "outputs": [
    {
     "name": "stdout",
     "output_type": "stream",
     "text": [
      "number of vowels in a string: 0\n"
     ]
    }
   ],
   "source": [
    "#11.Write a Python program to count the number of vowels in a given string using a for loop.\n",
    "\n",
    "string=input(\"enter a string: \")\n",
    "vowels=\"aeiouAEIOU\"\n",
    "count=0\n",
    "for char in string:\n",
    "    if char in vowels:\n",
    "        count+=1\n",
    "print(\"number of vowels in a string:\", count)        "
   ]
  },
  {
   "cell_type": "code",
   "execution_count": 13,
   "metadata": {},
   "outputs": [
    {
     "name": "stdout",
     "output_type": "stream",
     "text": [
      "Multiplication table for 9:\n",
      "9 x 1 = 9\n",
      "9 x 2 = 18\n",
      "9 x 3 = 27\n",
      "9 x 4 = 36\n",
      "9 x 5 = 45\n",
      "9 x 6 = 54\n",
      "9 x 7 = 63\n",
      "9 x 8 = 72\n",
      "9 x 9 = 81\n",
      "9 x 10 = 90\n"
     ]
    }
   ],
   "source": [
    "#12.Create a Python program that generates a multiplication table for a given number using a for loop.\n",
    "\n",
    "num = int(input(\"Enter a number: \"))\n",
    "\n",
    "# Generate and print the multiplication table\n",
    "print(f\"Multiplication table for {num}:\")\n",
    "for i in range(1, 11):\n",
    "    print(f\"{num} x {i} = {num*i}\")\n"
   ]
  },
  {
   "cell_type": "code",
   "execution_count": 14,
   "metadata": {},
   "outputs": [
    {
     "name": "stdout",
     "output_type": "stream",
     "text": [
      "Original list: [1, 2, 3, 4, 5]\n",
      "Reversed list: [5, 4, 3, 2, 1]\n"
     ]
    }
   ],
   "source": [
    "#13.Write a Python program to reverse a list using a for loop.\n",
    "my_list = [1, 2, 3, 4, 5]\n",
    "\n",
    "reversed_list = []\n",
    "\n",
    "for i in range(len(my_list) - 1, -1, -1):\n",
    "    reversed_list.append(my_list[i])\n",
    "\n",
    "print(\"Original list:\", my_list)\n",
    "print(\"Reversed list:\", reversed_list)"
   ]
  },
  {
   "cell_type": "code",
   "execution_count": 15,
   "metadata": {},
   "outputs": [
    {
     "name": "stdout",
     "output_type": "stream",
     "text": [
      "Common elements between the two lists: [4, 5]\n"
     ]
    }
   ],
   "source": [
    "#14.Write a Python program to find the common elements between two lists using a for loop.\n",
    "\n",
    "list1 = [1, 2, 3, 4, 5]\n",
    "list2 = [4, 5, 6, 7, 8]\n",
    "\n",
    "common_elements = []\n",
    "\n",
    "for element in list1:\n",
    "    # Check if the element is also in the second list and not already in common_elements\n",
    "    if element in list2 and element not in common_elements:\n",
    "        common_elements.append(element)\n",
    "\n",
    "print(\"Common elements between the two lists:\", common_elements)\n"
   ]
  },
  {
   "cell_type": "code",
   "execution_count": 16,
   "metadata": {},
   "outputs": [
    {
     "name": "stdout",
     "output_type": "stream",
     "text": [
      "Key: a, Value: 1\n",
      "Key: b, Value: 2\n",
      "Key: c, Value: 3\n"
     ]
    }
   ],
   "source": [
    "#15.Explain how to use a for loop to iterate through the keys and values of a dictionary in Python.\n",
    "# Define a dictionary\n",
    "my_dict = {\"a\": 1, \"b\": 2, \"c\": 3}\n",
    "\n",
    "for key, value in my_dict.items():\n",
    "    print(f\"Key: {key}, Value: {value}\")"
   ]
  },
  {
   "cell_type": "code",
   "execution_count": 17,
   "metadata": {},
   "outputs": [
    {
     "name": "stdout",
     "output_type": "stream",
     "text": [
      "GCD: 6\n"
     ]
    }
   ],
   "source": [
    "#16.Write a Python program to find the GCD (Greatest Common Divisor) of two numbers using a for loop.\n",
    "def gcd(a, b):\n",
    "    while b:\n",
    "        a, b = b, a % b\n",
    "    return a\n",
    "\n",
    "num1 = int(input(\"Enter first number: \"))\n",
    "num2 = int(input(\"Enter second number: \"))\n",
    "\n",
    "print(\"GCD:\", gcd(num1, num2))"
   ]
  },
  {
   "cell_type": "code",
   "execution_count": 18,
   "metadata": {},
   "outputs": [
    {
     "name": "stdout",
     "output_type": "stream",
     "text": [
      "Palindrome\n"
     ]
    }
   ],
   "source": [
    "#17.Create a Python program that checks if a string is a palindrome using a for loop.\n",
    "def is_palindrome(s):\n",
    "    for i in range(len(s) // 2):\n",
    "        if s[i] != s[-i - 1]:\n",
    "            return False\n",
    "    return True\n",
    "\n",
    "string = input(\"Enter a string: \")\n",
    "if is_palindrome(string):\n",
    "    print(\"Palindrome\")\n",
    "else:\n",
    "    print(\"Not a palindrome\")"
   ]
  },
  {
   "cell_type": "code",
   "execution_count": 19,
   "metadata": {},
   "outputs": [
    {
     "name": "stdout",
     "output_type": "stream",
     "text": [
      "List with duplicates removed: [1, 2, 3, 4, 5, 6]\n"
     ]
    }
   ],
   "source": [
    "#18.Write a Python program to remove duplicates from a list using a for loop.\n",
    "my_list = [1, 2, 2, 3, 4, 4, 5, 6, 6]\n",
    "unique_list = []\n",
    "for num in my_list:\n",
    "    if num not in unique_list:\n",
    "        unique_list.append(num)\n",
    "\n",
    "print(\"List with duplicates removed:\", unique_list)"
   ]
  },
  {
   "cell_type": "code",
   "execution_count": 20,
   "metadata": {},
   "outputs": [
    {
     "name": "stdout",
     "output_type": "stream",
     "text": [
      "Number of words: 3\n"
     ]
    }
   ],
   "source": [
    "#19.Create a Python program that counts the number of words in a sentence using a for loop.\n",
    "sentence = input(\"Enter a sentence: \")\n",
    "words = sentence.split()\n",
    "word_count = 0\n",
    "for word in words:\n",
    "    word_count += 1\n",
    "\n",
    "print(\"Number of words:\", word_count)"
   ]
  },
  {
   "cell_type": "code",
   "execution_count": 21,
   "metadata": {},
   "outputs": [
    {
     "name": "stdout",
     "output_type": "stream",
     "text": [
      "Sum of odd numbers from 1 to 50: 625\n"
     ]
    }
   ],
   "source": [
    "#20.Write a Python program to find the sum of all odd numbers from 1 to 50 using a for loop.\n",
    "sum = 0\n",
    "for i in range(1, 51, 2):\n",
    "    sum += i\n",
    "\n",
    "print(\"Sum of odd numbers from 1 to 50:\", sum)"
   ]
  },
  {
   "cell_type": "code",
   "execution_count": null,
   "metadata": {},
   "outputs": [],
   "source": [
    "#21.Write a Python program that checks if a given year is a leap year using a for loop.\n",
    "year = int(input(\"Enter a year: \"))\n",
    "if (year % 4 == 0 and year % 100 != 0) or (year % 400 == 0):\n",
    "    print(\"Leap year\")\n",
    "else:\n",
    "    print(\"Not a leap year\")"
   ]
  },
  {
   "cell_type": "code",
   "execution_count": 23,
   "metadata": {},
   "outputs": [
    {
     "name": "stdout",
     "output_type": "stream",
     "text": [
      "The square root of 25 is approximately 5.0\n"
     ]
    }
   ],
   "source": [
    "#22.Create a Python program that calculates the square root of a number using a for loop.\n",
    "def square_root(n):\n",
    "    guess = n / 2\n",
    "    num_iterations = 100\n",
    "\n",
    "    for _ in range(num_iterations):\n",
    "        guess = (guess + n / guess) / 2\n",
    "\n",
    "    return guess\n",
    "\n",
    "n = 25\n",
    "result = square_root(n)\n",
    "print(f\"The square root of {n} is approximately {result}\")\n"
   ]
  },
  {
   "cell_type": "code",
   "execution_count": 24,
   "metadata": {},
   "outputs": [
    {
     "name": "stdout",
     "output_type": "stream",
     "text": [
      "LCM: 40\n"
     ]
    }
   ],
   "source": [
    "#23.Write a Python program to find the LCM (Least Common Multiple) of two numbers using a for loop.\n",
    "def lcm(a, b):\n",
    "    max_num = max(a, b)\n",
    "    while True:\n",
    "        if max_num % a == 0 and max_num % b == 0:\n",
    "            return max_num\n",
    "        max_num += 1\n",
    "\n",
    "num1 = int(input(\"Enter first number: \"))\n",
    "num2 = int(input(\"Enter second number: \"))\n",
    "\n",
    "print(\"LCM:\", lcm(num1, num2))"
   ]
  },
  {
   "cell_type": "code",
   "execution_count": 25,
   "metadata": {},
   "outputs": [],
   "source": [
    "#if-else questions"
   ]
  },
  {
   "cell_type": "code",
   "execution_count": 26,
   "metadata": {},
   "outputs": [
    {
     "name": "stdout",
     "output_type": "stream",
     "text": [
      "Positive number\n"
     ]
    }
   ],
   "source": [
    "#1.Write a Python program to check if a number is positive, negative, or zero using an if-else statement.\n",
    "num = float(input(\"Enter a number: \"))\n",
    "if num > 0:\n",
    "    print(\"Positive number\")\n",
    "elif num < 0:\n",
    "    print(\"Negative number\")\n",
    "else:\n",
    "    print(\"Zero\")"
   ]
  },
  {
   "cell_type": "code",
   "execution_count": 27,
   "metadata": {},
   "outputs": [
    {
     "name": "stdout",
     "output_type": "stream",
     "text": [
      "Odd number\n"
     ]
    }
   ],
   "source": [
    "#2.Create a Python program that checks if a given number is even or odd using an if-else statement.\n",
    "num = int(input(\"Enter a number: \"))\n",
    "if num % 2 == 0:\n",
    "    print(\"Even number\")\n",
    "else:\n",
    "    print(\"Odd number\")"
   ]
  },
  {
   "cell_type": "code",
   "execution_count": 28,
   "metadata": {},
   "outputs": [
    {
     "name": "stdout",
     "output_type": "stream",
     "text": [
      "Positive number\n"
     ]
    }
   ],
   "source": [
    "#3.How can you use nested if-else statements in Python, and provide an example?\n",
    "num = int(input(\"Enter a number: \"))\n",
    "if num >= 0:\n",
    "    if num == 0:\n",
    "        print(\"Zero\")\n",
    "    else:\n",
    "        print(\"Positive number\")\n",
    "else:\n",
    "    print(\"Negative number\")"
   ]
  },
  {
   "cell_type": "code",
   "execution_count": 29,
   "metadata": {},
   "outputs": [
    {
     "name": "stdout",
     "output_type": "stream",
     "text": [
      "The largest number is: 65.0\n"
     ]
    }
   ],
   "source": [
    "#4.Write a Python program to determine the largest of three numbers using if-else.\n",
    "num1 = float(input(\"Enter first number: \"))\n",
    "num2 = float(input(\"Enter second number: \"))\n",
    "num3 = float(input(\"Enter third number: \"))\n",
    "if num1 >= num2 and num1 >= num3:\n",
    "    largest = num1\n",
    "elif num2 >= num1 and num2 >= num3:\n",
    "    largest = num2\n",
    "else:\n",
    "    largest = num3\n",
    "print(\"The largest number is:\", largest)"
   ]
  },
  {
   "cell_type": "code",
   "execution_count": 30,
   "metadata": {},
   "outputs": [
    {
     "name": "stdout",
     "output_type": "stream",
     "text": [
      "The absolute value is: 65.1\n"
     ]
    }
   ],
   "source": [
    "#5.Write a Python program that calculates the absolute value of a number using if-else.\n",
    "num = float(input(\"Enter a number: \"))\n",
    "if num < 0:\n",
    "    abs_value = -num\n",
    "else:\n",
    "    abs_value = num\n",
    "print(\"The absolute value is:\", abs_value)"
   ]
  },
  {
   "cell_type": "code",
   "execution_count": 31,
   "metadata": {},
   "outputs": [
    {
     "name": "stdout",
     "output_type": "stream",
     "text": [
      "Consonant\n"
     ]
    }
   ],
   "source": [
    "#6.Create a Python program that checks if a given character is a vowel or consonant using if-else.\n",
    "char = input(\"Enter a character: \")\n",
    "if char.lower() in ['a', 'e', 'i', 'o', 'u']:\n",
    "    print(\"Vowel\")\n",
    "else:\n",
    "    print(\"Consonant\")"
   ]
  },
  {
   "cell_type": "code",
   "execution_count": 32,
   "metadata": {},
   "outputs": [
    {
     "name": "stdout",
     "output_type": "stream",
     "text": [
      "You are eligible to vote\n"
     ]
    }
   ],
   "source": [
    "#7.Write a Python program to determine if a user is eligible to vote based on their age using if-else.\n",
    "age = int(input(\"Enter your age: \"))\n",
    "if age >= 18:\n",
    "    print(\"You are eligible to vote\")\n",
    "else:\n",
    "    print(\"You are not eligible to vote\")"
   ]
  },
  {
   "cell_type": "code",
   "execution_count": 33,
   "metadata": {},
   "outputs": [
    {
     "name": "stdout",
     "output_type": "stream",
     "text": [
      "Discount amount: 0\n"
     ]
    }
   ],
   "source": [
    "#8.Create a Python program that calculates the discount amount based on the purchase amount using if-else.\n",
    "purchase_amount = float(input(\"Enter the purchase amount: \"))\n",
    "if purchase_amount > 1000:\n",
    "    discount = 0.1 * purchase_amount\n",
    "else:\n",
    "    discount = 0\n",
    "print(\"Discount amount:\", discount)"
   ]
  },
  {
   "cell_type": "code",
   "execution_count": 34,
   "metadata": {},
   "outputs": [
    {
     "name": "stdout",
     "output_type": "stream",
     "text": [
      "Number is not within the specified range\n"
     ]
    }
   ],
   "source": [
    "#9.Write a Python program to check if a number is within a specified range using if-else.\n",
    "num = float(input(\"Enter a number: \"))\n",
    "if 10 <= num <= 50:\n",
    "    print(\"Number is within the specified range\")\n",
    "else:\n",
    "    print(\"Number is not within the specified range\")"
   ]
  },
  {
   "cell_type": "code",
   "execution_count": 35,
   "metadata": {},
   "outputs": [
    {
     "name": "stdout",
     "output_type": "stream",
     "text": [
      "The student's grade is: A\n"
     ]
    }
   ],
   "source": [
    "#10.Create a Python program that determines the grade of a student based on their score using if-else.\n",
    "def calculate_grade(score):\n",
    "    if score >= 90:\n",
    "        return \"A\"\n",
    "    elif score >= 80:\n",
    "        return \"B\"\n",
    "    elif score >= 70:\n",
    "        return \"C\"\n",
    "    elif score >= 60:\n",
    "        return \"D\"\n",
    "    else:\n",
    "        return \"F\"\n",
    "\n",
    "# Input score\n",
    "score = float(input(\"Enter the student's score: \"))\n",
    "\n",
    "# Calculate grade\n",
    "grade = calculate_grade(score)\n",
    "\n",
    "# Print result\n",
    "print(f\"The student's grade is: {grade}\")\n"
   ]
  },
  {
   "cell_type": "code",
   "execution_count": 36,
   "metadata": {},
   "outputs": [
    {
     "name": "stdout",
     "output_type": "stream",
     "text": [
      "String is not empty\n"
     ]
    }
   ],
   "source": [
    "#11.Write a Python program to check if a string is empty or not using if-else.\n",
    "string = input(\"Enter a string: \")\n",
    "if string:\n",
    "    print(\"String is not empty\")\n",
    "else:\n",
    "    print(\"String is empty\")"
   ]
  },
  {
   "cell_type": "code",
   "execution_count": 37,
   "metadata": {},
   "outputs": [
    {
     "name": "stdout",
     "output_type": "stream",
     "text": [
      "Isosceles triangle\n"
     ]
    }
   ],
   "source": [
    "#12.Create a Python program that identifies the type of a triangle (e.g., equilateral, isosceles, or scalene) based on input values using if-else.\n",
    "side1 = float(input(\"Enter the length of side 1: \"))\n",
    "side2 = float(input(\"Enter the length of side 2: \"))\n",
    "side3 = float(input(\"Enter the length of side 3: \"))\n",
    "if side1 == side2 == side3:\n",
    "    print(\"Equilateral triangle\")\n",
    "elif side1 == side2 or side1 == side3 or side2 == side3:\n",
    "    print(\"Isosceles triangle\")\n",
    "else:\n",
    "    print(\"Scalene triangle\")"
   ]
  },
  {
   "cell_type": "code",
   "execution_count": 38,
   "metadata": {},
   "outputs": [
    {
     "name": "stdout",
     "output_type": "stream",
     "text": [
      "Thursday\n"
     ]
    }
   ],
   "source": [
    "#13.Write a Python program to determine the day of the week based on a user-provided number using if-else.\n",
    "day_num = int(input(\"Enter a number (1-7): \"))\n",
    "if day_num == 1:\n",
    "    print(\"Sunday\")\n",
    "elif day_num == 2:\n",
    "    print(\"Monday\")\n",
    "elif day_num == 3:\n",
    "    print(\"Tuesday\")\n",
    "elif day_num == 4:\n",
    "    print(\"Wednesday\")\n",
    "elif day_num == 5:\n",
    "    print(\"Thursday\")\n",
    "elif day_num == 6:\n",
    "    print(\"Friday\")\n",
    "elif day_num == 7:\n",
    "    print(\"Saturday\")\n",
    "else:\n",
    "    print(\"Invalid number. Please enter a number between 1 and 7.\")"
   ]
  },
  {
   "cell_type": "code",
   "execution_count": 39,
   "metadata": {},
   "outputs": [
    {
     "name": "stdout",
     "output_type": "stream",
     "text": [
      "Leap year\n"
     ]
    }
   ],
   "source": [
    "#14.Create a Python program that checks if a given year is a leap year using both if-else and a function.\n",
    "def is_leap_year(year):\n",
    "    if (year % 4 == 0 and year % 100 != 0) or (year % 400 == 0):\n",
    "        return True\n",
    "    else:\n",
    "        return False\n",
    "\n",
    "year = int(input(\"Enter a year: \"))\n",
    "if is_leap_year(year):\n",
    "    print(\"Leap year\")\n",
    "else:\n",
    "    print(\"Not a leap year\")"
   ]
  },
  {
   "cell_type": "code",
   "execution_count": 40,
   "metadata": {},
   "outputs": [
    {
     "name": "stdout",
     "output_type": "stream",
     "text": [
      "x and y are not equal\n"
     ]
    }
   ],
   "source": [
    "#15.How do you use the \"assert\" statement in Python to add debugging checks within if-else blocks?\n",
    "x = 10\n",
    "y = 20\n",
    "\n",
    "if x == y:\n",
    "    print(\"x and y are equal\")\n",
    "else:\n",
    "    assert x != y, \"x and y should not be equal\"\n",
    "    print(\"x and y are not equal\")"
   ]
  },
  {
   "cell_type": "code",
   "execution_count": 41,
   "metadata": {},
   "outputs": [
    {
     "name": "stdout",
     "output_type": "stream",
     "text": [
      "You are not eligible for a senior citizen discount\n"
     ]
    }
   ],
   "source": [
    "#16.Create a Python program that determines the eligibility of a person for a senior citizen discount based on age using if-else.\n",
    "age = int(input(\"Enter your age: \"))\n",
    "if age >= 60:\n",
    "    print(\"You are eligible for a senior citizen discount\")\n",
    "else:\n",
    "    print(\"You are not eligible for a senior citizen discount\")"
   ]
  },
  {
   "cell_type": "code",
   "execution_count": 42,
   "metadata": {},
   "outputs": [
    {
     "name": "stdout",
     "output_type": "stream",
     "text": [
      "Lowercase\n"
     ]
    }
   ],
   "source": [
    "#17.Write a Python program to categorize a given character as uppercase, lowercase, or neither using if-else.\n",
    "char = input(\"Enter a character: \")\n",
    "if char.isupper():\n",
    "    print(\"Uppercase\")\n",
    "elif char.islower():\n",
    "    print(\"Lowercase\")\n",
    "else:\n",
    "    print(\"Neither uppercase nor lowercase\")"
   ]
  },
  {
   "cell_type": "code",
   "execution_count": 43,
   "metadata": {},
   "outputs": [
    {
     "name": "stdout",
     "output_type": "stream",
     "text": [
      "Roots are complex and different.\n",
      "Root 1 = -1.0 + 1.4142135623730951i, Root 2 = -1.0 - 1.4142135623730951i\n"
     ]
    }
   ],
   "source": [
    "#18.Write a Python program to determine the roots of a quadratic equation using if-else.\n",
    "import math\n",
    "\n",
    "a = float(input(\"Enter coefficient a: \"))\n",
    "b = float(input(\"Enter coefficient b: \"))\n",
    "c = float(input(\"Enter coefficient c: \"))\n",
    "\n",
    "discriminant = b**2 - 4*a*c\n",
    "\n",
    "if discriminant > 0:\n",
    "    root1 = (-b + math.sqrt(discriminant)) / (2*a)\n",
    "    root2 = (-b - math.sqrt(discriminant)) / (2*a)\n",
    "    print(\"Roots are real and different.\")\n",
    "    print(f\"Root 1 = {root1}, Root 2 = {root2}\")\n",
    "elif discriminant == 0:\n",
    "    root = -b / (2*a)\n",
    "    print(\"Roots are real and same.\")\n",
    "    print(f\"Root = {root}\")\n",
    "else:\n",
    "    real_part = -b / (2*a)\n",
    "    imaginary_part = math.sqrt(-discriminant) / (2*a)\n",
    "    print(\"Roots are complex and different.\")\n",
    "    print(f\"Root 1 = {real_part} + {imaginary_part}i, Root 2 = {real_part} - {imaginary_part}i\")\n"
   ]
  },
  {
   "cell_type": "code",
   "execution_count": 44,
   "metadata": {},
   "outputs": [
    {
     "name": "stdout",
     "output_type": "stream",
     "text": [
      "Not a century year\n"
     ]
    }
   ],
   "source": [
    "#19.Create a Python program that checks if a given year is a century year or not using if-else.\n",
    "year = int(input(\"Enter a year: \"))\n",
    "if year % 100 == 0:\n",
    "    print(\"Century year\")\n",
    "else:\n",
    "    print(\"Not a century year\")"
   ]
  },
  {
   "cell_type": "code",
   "execution_count": 45,
   "metadata": {},
   "outputs": [
    {
     "name": "stdout",
     "output_type": "stream",
     "text": [
      "Not a perfect square\n"
     ]
    }
   ],
   "source": [
    "#20.Write a Python program to determine if a given number is a perfect square using if-else.\n",
    "num = int(input(\"Enter a number: \"))\n",
    "sqrt = num ** 0.5\n",
    "if sqrt.is_integer():\n",
    "    print(\"Perfect square\")\n",
    "else:\n",
    "    print(\"Not a perfect square\")"
   ]
  },
  {
   "cell_type": "code",
   "execution_count": 46,
   "metadata": {},
   "outputs": [
    {
     "data": {
      "text/plain": [
       "\"\\ncontinue statement:\\n\\n When the continue statement is encountered inside a loop, the current iteration of the loop is immediately stopped, and the loop proceeds with the next iteration.\\n The continue statement is often used when you want to skip the rest of the current iteration and continue with the next iteration based on a certain condition.\\nIt is commonly used to avoid executing certain code within a loop for specific conditions.\\nExample:  for i in range(1, 6):\\n            if i == 3:\\n              continue\\n            print(i)\\n\\nbreak statement:\\n\\nWhen the break statement is encountered inside a loop, the loop is immediately terminated, and the program control moves to the statement immediately after the loop.\\nThe break statement is commonly used when you want to exit the loop early based on a certain condition.\\nIt is useful for terminating a loop when a specific condition is met, even if the loop's iteration conditions are not fully satisfied.\\nExample:    for i in range(1, 6):\\n              if i == 4:\\n                 break\\n              print(i)\\n\""
      ]
     },
     "execution_count": 46,
     "metadata": {},
     "output_type": "execute_result"
    }
   ],
   "source": [
    "#21.Explain the purpose of the \"continue\" and \"break\" statements within if-else loops.\n",
    "\"\"\"\n",
    "continue statement:\n",
    "\n",
    " When the continue statement is encountered inside a loop, the current iteration of the loop is immediately stopped, and the loop proceeds with the next iteration.\n",
    " The continue statement is often used when you want to skip the rest of the current iteration and continue with the next iteration based on a certain condition.\n",
    "It is commonly used to avoid executing certain code within a loop for specific conditions.\n",
    "Example:  for i in range(1, 6):\n",
    "            if i == 3:\n",
    "              continue\n",
    "            print(i)\n",
    "\n",
    "break statement:\n",
    "\n",
    "When the break statement is encountered inside a loop, the loop is immediately terminated, and the program control moves to the statement immediately after the loop.\n",
    "The break statement is commonly used when you want to exit the loop early based on a certain condition.\n",
    "It is useful for terminating a loop when a specific condition is met, even if the loop's iteration conditions are not fully satisfied.\n",
    "Example:    for i in range(1, 6):\n",
    "              if i == 4:\n",
    "                 break\n",
    "              print(i)\n",
    "\"\"\""
   ]
  },
  {
   "cell_type": "code",
   "execution_count": 47,
   "metadata": {},
   "outputs": [
    {
     "name": "stdout",
     "output_type": "stream",
     "text": [
      "BMI: 1.8\n",
      "Underweight\n"
     ]
    }
   ],
   "source": [
    "#22.Create a Python program that calculates the BMI (Body Mass Index) of a person based on their weight and height using if-else\n",
    "\n",
    "weight = float(input(\"Enter weight in kg: \"))\n",
    "height = float(input(\"Enter height in meters: \"))\n",
    "bmi = weight / (height ** 2)\n",
    "\n",
    "print(\"BMI:\", bmi)\n",
    "\n",
    "if bmi < 18.5:\n",
    "    print(\"Underweight\")\n",
    "elif 18.5 <= bmi < 25:\n",
    "    print(\"Normal weight\")\n",
    "elif 25 <= bmi < 30:\n",
    "    print(\"Overweight\")\n",
    "else:\n",
    "    print(\"Obese\")"
   ]
  },
  {
   "cell_type": "code",
   "execution_count": 48,
   "metadata": {},
   "outputs": [
    {
     "data": {
      "text/plain": [
       "'\\nwe can use the filter() function along with an if-else statement to filter elements \\nfrom a list based on a condition. The filter() function takes two arguments: a function\\nand an iterable (such as a list) and returns an iterator that contains elements from the iterable for \\nwhich the function returns True.\\nHere an example of how we can use filter() with an if-else statement to filter elements from a list:-\\n# Define a function that checks if a number is greater than 5\\ndef greater_than_5(x):\\n    return x > 5\\n\\n# Create a list of numbers\\nnumbers = [1, 10, 2, 7, 5, 8]\\n\\n# Use filter() with a lambda function and an if-else statement to filter elements\\nfiltered_numbers = filter(lambda x: x > 5, numbers)\\n\\n# Convert the filtered_numbers iterator to a list\\nfiltered_numbers_list = list(filtered_numbers)\\n\\n# Print the filtered list\\nprint(filtered_numbers_list)\\n\\n'"
      ]
     },
     "execution_count": 48,
     "metadata": {},
     "output_type": "execute_result"
    }
   ],
   "source": [
    "#23.How can you use the \"filter()\" function with if-else statements to filter elements from a list?\n",
    "\n",
    "\"\"\"\n",
    "we can use the filter() function along with an if-else statement to filter elements \n",
    "from a list based on a condition. The filter() function takes two arguments: a function\n",
    "and an iterable (such as a list) and returns an iterator that contains elements from the iterable for \n",
    "which the function returns True.\n",
    "Here an example of how we can use filter() with an if-else statement to filter elements from a list:-\n",
    "# Define a function that checks if a number is greater than 5\n",
    "def greater_than_5(x):\n",
    "    return x > 5\n",
    "\n",
    "# Create a list of numbers\n",
    "numbers = [1, 10, 2, 7, 5, 8]\n",
    "\n",
    "# Use filter() with a lambda function and an if-else statement to filter elements\n",
    "filtered_numbers = filter(lambda x: x > 5, numbers)\n",
    "\n",
    "# Convert the filtered_numbers iterator to a list\n",
    "filtered_numbers_list = list(filtered_numbers)\n",
    "\n",
    "# Print the filtered list\n",
    "print(filtered_numbers_list)\n",
    "\n",
    "\"\"\""
   ]
  },
  {
   "cell_type": "code",
   "execution_count": 49,
   "metadata": {},
   "outputs": [
    {
     "name": "stdout",
     "output_type": "stream",
     "text": [
      "57 is not a prime number\n"
     ]
    }
   ],
   "source": [
    "#24.Write a Python program to determine if a given number is prime or not using if-else.\n",
    "num = int(input(\"Enter a number: \"))\n",
    "\n",
    "# Prime numbers are greater than 1\n",
    "if num > 1:\n",
    "    # Check for factors from 2 to num-1\n",
    "    for i in range(2, num):\n",
    "        if (num % i) == 0:\n",
    "            print(num, \"is not a prime number\")\n",
    "            break\n",
    "    else:\n",
    "        print(num, \"is a prime number\")\n",
    "else:\n",
    "    print(num, \"is not a prime number\")"
   ]
  },
  {
   "cell_type": "code",
   "execution_count": 50,
   "metadata": {},
   "outputs": [],
   "source": [
    "#Map :- Questions"
   ]
  },
  {
   "cell_type": "code",
   "execution_count": 51,
   "metadata": {},
   "outputs": [
    {
     "data": {
      "text/plain": [
       "'\\nThe map() function in Python is used to apply a specified function to each item in an iterable \\n(such as a list, tuple, or set) and return an iterator that yields the results. The map() function \\ntakes two arguments: the function to apply and the iterable to apply it to.\\n\\nHere an example of how you can use the map() function to square each element in a list:-\\n# Define a function to square a number\\ndef square(x):\\n    return x ** 2\\n\\n# Create a list of numbers\\nnumbers = [1, 2, 3, 4, 5]\\n\\n# Use map() to apply the square function to each element in the numbers list\\nsquared_numbers = map(square, numbers)\\n\\n# Convert the squared_numbers iterator to a list\\nsquared_numbers_list = list(squared_numbers)\\n\\n# Print the squared_numbers list\\nprint(squared_numbers_list)\\n\\n'"
      ]
     },
     "execution_count": 51,
     "metadata": {},
     "output_type": "execute_result"
    }
   ],
   "source": [
    "#1.Explain the purpose of the `map()` function in Python and provide an example of how it can be used to apply a function to each element of an iterable.\n",
    "\n",
    "'''\n",
    "The map() function in Python is used to apply a specified function to each item in an iterable \n",
    "(such as a list, tuple, or set) and return an iterator that yields the results. The map() function \n",
    "takes two arguments: the function to apply and the iterable to apply it to.\n",
    "\n",
    "Here an example of how you can use the map() function to square each element in a list:-\n",
    "# Define a function to square a number\n",
    "def square(x):\n",
    "    return x ** 2\n",
    "\n",
    "# Create a list of numbers\n",
    "numbers = [1, 2, 3, 4, 5]\n",
    "\n",
    "# Use map() to apply the square function to each element in the numbers list\n",
    "squared_numbers = map(square, numbers)\n",
    "\n",
    "# Convert the squared_numbers iterator to a list\n",
    "squared_numbers_list = list(squared_numbers)\n",
    "\n",
    "# Print the squared_numbers list\n",
    "print(squared_numbers_list)\n",
    "\n",
    "'''"
   ]
  },
  {
   "cell_type": "code",
   "execution_count": 52,
   "metadata": {},
   "outputs": [
    {
     "name": "stdout",
     "output_type": "stream",
     "text": [
      "[1, 4, 9, 16, 25]\n"
     ]
    }
   ],
   "source": [
    "#2.Write a Python program that uses the `map()` function to square each element of a list of numbers.\n",
    "# Define a function \n",
    "def square(x):\n",
    "    return x ** 2\n",
    "\n",
    "# Create a list of numbers\n",
    "numbers = [1, 2, 3, 4, 5]\n",
    "\n",
    "# Use map() to apply the square function to each element in the numbers list\n",
    "squared_numbers = map(square, numbers)\n",
    "\n",
    "# Convert the squared_numbers iterator to a list\n",
    "squared_numbers_list = list(squared_numbers)\n",
    "\n",
    "# Print the squared_numbers list\n",
    "print(squared_numbers_list)\n"
   ]
  },
  {
   "cell_type": "code",
   "execution_count": 53,
   "metadata": {},
   "outputs": [
    {
     "data": {
      "text/plain": [
       "'\\nmap() function:\\n\\nThe map() function takes two arguments: a function and an iterable. It applies the function to each element of the iterable and returns an iterator that yields the results.\\nThe map() function is more concise when you need to apply a function to every element of an iterable, especially when the function logic is complex or reusable.\\nIt is particularly useful when you want to apply the same function to multiple iterables simultaneously, as you can pass multiple iterables to the map() function.\\nExample:-numbers = [1, 2, 3, 4, 5]\\n         squared_numbers = map(lambda x: x**2, numbers)\\n\\nList comprehension:\\n\\nList comprehensions provide a concise way to create lists. They consist of brackets containing an expression followed by a for clause, then zero or more for or if clauses.\\nList comprehensions are more readable and easier to understand when creating a new list based on an existing iterable.\\nThey are more flexible than map() because they can include conditional statements (if clauses) and nested loops.\\nExample:-numbers = [1, 2, 3, 4, 5]\\n         squared_numbers = [x**2 for x in numbers]\\n\\n\\n'"
      ]
     },
     "execution_count": 53,
     "metadata": {},
     "output_type": "execute_result"
    }
   ],
   "source": [
    "#3.How does the `map()` function differ from a list comprehension in Python, and when would you choose one over the other?\n",
    "\n",
    "'''\n",
    "map() function:\n",
    "\n",
    "The map() function takes two arguments: a function and an iterable. It applies the function to each element of the iterable and returns an iterator that yields the results.\n",
    "The map() function is more concise when you need to apply a function to every element of an iterable, especially when the function logic is complex or reusable.\n",
    "It is particularly useful when you want to apply the same function to multiple iterables simultaneously, as you can pass multiple iterables to the map() function.\n",
    "Example:-numbers = [1, 2, 3, 4, 5]\n",
    "         squared_numbers = map(lambda x: x**2, numbers)\n",
    "\n",
    "List comprehension:\n",
    "\n",
    "List comprehensions provide a concise way to create lists. They consist of brackets containing an expression followed by a for clause, then zero or more for or if clauses.\n",
    "List comprehensions are more readable and easier to understand when creating a new list based on an existing iterable.\n",
    "They are more flexible than map() because they can include conditional statements (if clauses) and nested loops.\n",
    "Example:-numbers = [1, 2, 3, 4, 5]\n",
    "         squared_numbers = [x**2 for x in numbers]\n",
    "\n",
    "\n",
    "'''"
   ]
  },
  {
   "cell_type": "code",
   "execution_count": 54,
   "metadata": {},
   "outputs": [
    {
     "name": "stdout",
     "output_type": "stream",
     "text": [
      "['ALICE', 'BOB', 'CHARLIE', 'DAVID']\n"
     ]
    }
   ],
   "source": [
    "#4.Create a Python program that uses the `map()` function to convert a list of names to uppercase.\n",
    "\n",
    "names = [\"Alice\", \"Bob\", \"Charlie\", \"David\"]\n",
    "upper_names = list(map(str.upper, names))\n",
    "print(upper_names)"
   ]
  },
  {
   "cell_type": "code",
   "execution_count": 55,
   "metadata": {},
   "outputs": [
    {
     "name": "stdout",
     "output_type": "stream",
     "text": [
      "[5, 6, 6, 4]\n"
     ]
    }
   ],
   "source": [
    "#5.Write a Python program that uses the `map()` function to calculate the length of each word in a list of strings.\n",
    "words = [\"apple\", \"banana\", \"cherry\", \"date\"]\n",
    "word_lengths = list(map(len, words))\n",
    "print(word_lengths)"
   ]
  },
  {
   "cell_type": "code",
   "execution_count": 56,
   "metadata": {},
   "outputs": [
    {
     "name": "stdout",
     "output_type": "stream",
     "text": [
      "[11, 22, 33, 44, 55]\n"
     ]
    }
   ],
   "source": [
    "#6.How can you use the `map()` function to apply a custom function to elements of multiple lists simultaneously in Python?\n",
    "\n",
    "\"\"\"\n",
    " by passing multiple iterables to the map() function. \n",
    "\"\"\"\n",
    "# Custom function to calculate the sum of elements from two lists\n",
    "def add(x, y):\n",
    "    return x + y\n",
    "\n",
    "# Two lists of numbers\n",
    "numbers1 = [1, 2, 3, 4, 5]\n",
    "numbers2 = [10, 20, 30, 40, 50]\n",
    "\n",
    "# Use map() to apply the add function to elements of both lists simultaneously\n",
    "sums = list(map(add, numbers1, numbers2))\n",
    "\n",
    "print(sums)"
   ]
  },
  {
   "cell_type": "code",
   "execution_count": 57,
   "metadata": {},
   "outputs": [
    {
     "name": "stdout",
     "output_type": "stream",
     "text": [
      "[32.0, 50.0, 68.0, 86.0, 104.0]\n"
     ]
    }
   ],
   "source": [
    "#7.Create a Python program that uses `map()` to convert a list of temperatures from Celsius to Fahrenheit.\n",
    "\n",
    "# Custom function to convert Celsius to Fahrenheit\n",
    "def celsius_to_fahrenheit(celsius):\n",
    "    return (celsius * 9/5) + 32\n",
    "\n",
    "# List of temperatures in Celsius\n",
    "temperatures_celsius = [0, 10, 20, 30, 40]\n",
    "\n",
    "# Use map() to apply the celsius_to_fahrenheit function to each temperature\n",
    "temperatures_fahrenheit = list(map(celsius_to_fahrenheit, temperatures_celsius))\n",
    "\n",
    "print(temperatures_fahrenheit)\n"
   ]
  },
  {
   "cell_type": "code",
   "execution_count": 58,
   "metadata": {},
   "outputs": [
    {
     "name": "stdout",
     "output_type": "stream",
     "text": [
      "[2, 3, 4, 4, 6]\n"
     ]
    }
   ],
   "source": [
    "#8.Write a Python program that uses the `map()` function to round each element of a list of floating-point numbers to the nearest integer.\n",
    "\n",
    "# List of floating-point numbers\n",
    "numbers = [1.5, 2.7, 3.9, 4.2, 5.6]\n",
    "\n",
    "# Use map() with the round() function to round each number to the nearest integer\n",
    "rounded_numbers = list(map(round, numbers))\n",
    "\n",
    "print(rounded_numbers)"
   ]
  },
  {
   "cell_type": "code",
   "execution_count": 59,
   "metadata": {},
   "outputs": [],
   "source": [
    "#Reduce:-"
   ]
  },
  {
   "cell_type": "code",
   "execution_count": 60,
   "metadata": {},
   "outputs": [
    {
     "data": {
      "text/plain": [
       "'\\nThe reduce() function in Python is used to apply a function of two arguments cumulatively to\\nthe items of an iterable, optionally starting with an initial value. The function is repeatedly \\napplied until only one value remains. The reduce() function is part of the functools module,\\nso you need to import it before using it.\\n\\nExample:-\\nfrom functools import reduce\\ndef add(x, y):\\n    return x + y\\n\\nnumbers = [1, 2, 3, 4, 5]\\n\\nsum_of_numbers = reduce(add, numbers)\\n\\nprint(sum_of_numbers)\\n'"
      ]
     },
     "execution_count": 60,
     "metadata": {},
     "output_type": "execute_result"
    }
   ],
   "source": [
    "#1.What is the `reduce()` function in Python, and what module should you import to use it? Provide an example of its basic usage.\n",
    "'''\n",
    "The reduce() function in Python is used to apply a function of two arguments cumulatively to\n",
    "the items of an iterable, optionally starting with an initial value. The function is repeatedly \n",
    "applied until only one value remains. The reduce() function is part of the functools module,\n",
    "so you need to import it before using it.\n",
    "\n",
    "Example:-\n",
    "from functools import reduce\n",
    "def add(x, y):\n",
    "    return x + y\n",
    "\n",
    "numbers = [1, 2, 3, 4, 5]\n",
    "\n",
    "sum_of_numbers = reduce(add, numbers)\n",
    "\n",
    "print(sum_of_numbers)\n",
    "'''"
   ]
  },
  {
   "cell_type": "code",
   "execution_count": 61,
   "metadata": {},
   "outputs": [
    {
     "name": "stdout",
     "output_type": "stream",
     "text": [
      "120\n"
     ]
    }
   ],
   "source": [
    "#2.Write a Python program that uses the `reduce()` function to find the product of all elements in a list.\n",
    "\n",
    "from functools import reduce\n",
    "def multiply(x, y):\n",
    "    return x * y\n",
    "\n",
    "numbers = [1, 2, 3, 4, 5]\n",
    "product_of_numbers = reduce(multiply, numbers)\n",
    "\n",
    "print(product_of_numbers)"
   ]
  },
  {
   "cell_type": "code",
   "execution_count": 62,
   "metadata": {},
   "outputs": [
    {
     "name": "stdout",
     "output_type": "stream",
     "text": [
      "10\n"
     ]
    }
   ],
   "source": [
    "#3.Create a Python program that uses `reduce()` to find the maximum element in a list of numbers.\n",
    "from functools import reduce\n",
    "numbers = [3, 7, 2, 10, 5]\n",
    "\n",
    "max_number = reduce(lambda x, y: x if x > y else y, numbers)\n",
    "\n",
    "print(max_number)"
   ]
  },
  {
   "cell_type": "code",
   "execution_count": 63,
   "metadata": {},
   "outputs": [
    {
     "name": "stdout",
     "output_type": "stream",
     "text": [
      "Hello world from Python\n"
     ]
    }
   ],
   "source": [
    "#4.How can you use the `reduce()` function to concatenate a list of strings into a single string?\n",
    "from functools import reduce\n",
    "\n",
    "strings = [\"Hello\", \"world\", \"from\", \"Python\"]\n",
    "\n",
    "concatenated_string = reduce(lambda x, y: x + \" \" + y, strings)\n",
    "\n",
    "print(concatenated_string)"
   ]
  },
  {
   "cell_type": "code",
   "execution_count": 64,
   "metadata": {},
   "outputs": [
    {
     "name": "stdout",
     "output_type": "stream",
     "text": [
      "120\n"
     ]
    }
   ],
   "source": [
    "#5.Write a Python program that calculates the factorial of a number using the `reduce()` function.\n",
    "from functools import reduce\n",
    "\n",
    "def factorial(n):\n",
    "    return reduce(lambda x, y: x * y, range(1, n+1), 1)\n",
    "\n",
    "result = factorial(5)\n",
    "\n",
    "print(result)"
   ]
  },
  {
   "cell_type": "code",
   "execution_count": 65,
   "metadata": {},
   "outputs": [
    {
     "name": "stdout",
     "output_type": "stream",
     "text": [
      "12\n"
     ]
    }
   ],
   "source": [
    "#6.Create a Python program that uses `reduce()` to find the GCD (Greatest Common Divisor) of a list of numbers.\n",
    "from functools import reduce\n",
    "from math import gcd\n",
    "\n",
    "numbers = [24, 36, 48, 60]\n",
    "\n",
    "gcd_of_numbers = reduce(gcd, numbers)\n",
    "\n",
    "print(gcd_of_numbers)"
   ]
  },
  {
   "cell_type": "code",
   "execution_count": 66,
   "metadata": {},
   "outputs": [
    {
     "name": "stdout",
     "output_type": "stream",
     "text": [
      "15\n"
     ]
    }
   ],
   "source": [
    "#7.Write a Python program that uses the `reduce()` function to find the sum of the digits of a given number.\n",
    "from functools import reduce\n",
    "\n",
    "def sum_digits(n):\n",
    "    return reduce(lambda x, y: int(x) + int(y), str(n), 0)\n",
    "\n",
    "result = sum_digits(12345)\n",
    "\n",
    "print(result)"
   ]
  },
  {
   "cell_type": "code",
   "execution_count": 67,
   "metadata": {},
   "outputs": [],
   "source": [
    "#Filter:-"
   ]
  },
  {
   "cell_type": "code",
   "execution_count": 68,
   "metadata": {},
   "outputs": [
    {
     "data": {
      "text/plain": [
       "'\\nThe filter() function in Python is used to construct an iterator from elements \\nof an iterable for which a function returns True.\\nIt takes two arguments: a function and an iterable.\\nThe function is called with each element of the iterable,\\nand the elements for which the function returns True are included in the\\nresulting iterator.\\n\\nHere an example of how filter() can be used to filter elements from an\\niterable:-\\n# Define a function to check if a number is greater than 5\\ndef greater_than_5(x):\\n    return x > 5\\n\\n# Create a list of numbers\\nnumbers = [1, 10, 2, 7, 5, 8]\\n\\n# Use filter() with the greater_than_5 function to filter elements\\nfiltered_numbers = filter(greater_than_5, numbers)\\n\\n# Convert the filtered_numbers iterator to a list\\nfiltered_numbers_list = list(filtered_numbers)\\n\\nprint(filtered_numbers_list)\\n\\n'"
      ]
     },
     "execution_count": 68,
     "metadata": {},
     "output_type": "execute_result"
    }
   ],
   "source": [
    "#1.Explain the purpose of the `filter()` function in Python and provide an example of how it can be used to filter elements from an iterable.\n",
    "'''\n",
    "The filter() function in Python is used to construct an iterator from elements \n",
    "of an iterable for which a function returns True.\n",
    "It takes two arguments: a function and an iterable.\n",
    "The function is called with each element of the iterable,\n",
    "and the elements for which the function returns True are included in the\n",
    "resulting iterator.\n",
    "\n",
    "Here an example of how filter() can be used to filter elements from an\n",
    "iterable:-\n",
    "# Define a function to check if a number is greater than 5\n",
    "def greater_than_5(x):\n",
    "    return x > 5\n",
    "\n",
    "# Create a list of numbers\n",
    "numbers = [1, 10, 2, 7, 5, 8]\n",
    "\n",
    "# Use filter() with the greater_than_5 function to filter elements\n",
    "filtered_numbers = filter(greater_than_5, numbers)\n",
    "\n",
    "# Convert the filtered_numbers iterator to a list\n",
    "filtered_numbers_list = list(filtered_numbers)\n",
    "\n",
    "print(filtered_numbers_list)\n",
    "\n",
    "'''"
   ]
  },
  {
   "cell_type": "code",
   "execution_count": 69,
   "metadata": {},
   "outputs": [
    {
     "name": "stdout",
     "output_type": "stream",
     "text": [
      "[2, 4, 6, 8, 10]\n"
     ]
    }
   ],
   "source": [
    "#2.Write a Python program that uses the `filter()` function to select even numbers from a list of integers.\n",
    "\n",
    "numbers = [1, 2, 3, 4, 5, 6, 7, 8, 9, 10]\n",
    "even_numbers = list(filter(lambda x: x % 2 == 0, numbers))\n",
    "print(even_numbers)"
   ]
  },
  {
   "cell_type": "code",
   "execution_count": 70,
   "metadata": {},
   "outputs": [
    {
     "name": "stdout",
     "output_type": "stream",
     "text": [
      "['Bob']\n"
     ]
    }
   ],
   "source": [
    "#3.Create a Python program that uses the `filter()` function to select names that start with a specific letter from a list of strings.\n",
    "names = [\"Alice\", \"Bob\", \"Charlie\", \"David\", \"Eve\"]\n",
    "letter = \"B\"\n",
    "filtered_names = list(filter(lambda x: x.startswith(letter), names))\n",
    "print(filtered_names)"
   ]
  },
  {
   "cell_type": "code",
   "execution_count": 71,
   "metadata": {},
   "outputs": [
    {
     "name": "stdout",
     "output_type": "stream",
     "text": [
      "[2, 3, 5, 7]\n"
     ]
    }
   ],
   "source": [
    "#4.Write a Python program that uses the `filter()` function to select prime numbers from a list of integers.\n",
    "def is_prime(n):\n",
    "    if n < 2:\n",
    "        return False\n",
    "    for i in range(2, int(n ** 0.5) + 1):\n",
    "        if n % i == 0:\n",
    "            return False\n",
    "    return True\n",
    "\n",
    "numbers = [1, 2, 3, 4, 5, 6, 7, 8, 9, 10]\n",
    "prime_numbers = list(filter(is_prime, numbers))\n",
    "print(prime_numbers)"
   ]
  },
  {
   "cell_type": "code",
   "execution_count": 72,
   "metadata": {},
   "outputs": [
    {
     "name": "stdout",
     "output_type": "stream",
     "text": [
      "[1, 3, 5, 7]\n"
     ]
    }
   ],
   "source": [
    "#5.How can you use the `filter()` function to remove None values from a list in Python?\n",
    "values = [1, None, 3, None, 5, None, 7]\n",
    "filtered_values = list(filter(lambda x: x is not None, values))\n",
    "print(filtered_values)"
   ]
  },
  {
   "cell_type": "code",
   "execution_count": 73,
   "metadata": {},
   "outputs": [
    {
     "name": "stdout",
     "output_type": "stream",
     "text": [
      "Words longer than 5 characters: ['banana', 'orange', 'watermelon']\n"
     ]
    }
   ],
   "source": [
    "#6.Create a Python program that uses `filter()` to select words longer than a certain length from a list of strings.\n",
    "def filter_words(words, length):\n",
    "    return list(filter(lambda x: len(x) > length, words))\n",
    "\n",
    "words_list = [\"apple\", \"banana\", \"kiwi\", \"orange\", \"watermelon\"]\n",
    "length_threshold = 5\n",
    "\n",
    "filtered_words = filter_words(words_list, length_threshold)\n",
    "print(f\"Words longer than {length_threshold} characters: {filtered_words}\")\n"
   ]
  },
  {
   "cell_type": "code",
   "execution_count": 74,
   "metadata": {},
   "outputs": [
    {
     "name": "stdout",
     "output_type": "stream",
     "text": [
      "['elderberry']\n"
     ]
    }
   ],
   "source": [
    "#7.Write a Python program that uses the `filter()` function to select elements greater than a specified threshold from a list of values.\n",
    "words = [\"apple\", \"banana\", \"cherry\", \"date\", \"elderberry\"]\n",
    "min_length = 6\n",
    "long_words = list(filter(lambda x: len(x) > min_length, words))\n",
    "print(long_words)"
   ]
  },
  {
   "cell_type": "code",
   "execution_count": 75,
   "metadata": {},
   "outputs": [],
   "source": [
    "#Recursion:-"
   ]
  },
  {
   "cell_type": "code",
   "execution_count": 76,
   "metadata": {},
   "outputs": [
    {
     "data": {
      "text/plain": [
       "'\\nRecursion is a programming technique where a function calls itself in order\\nto solve smaller instances of the same problem. It is a powerful tool in \\nprogramming that can be used to solve complex problems more elegantly.\\nRecursion is based on the principle of divide and conquer, \\nwhere a problem is divided into smaller subproblems that are solved\\nrecursively.\\n\\nRecursion differs from iteration in that iteration uses a loop to repeatedly\\nexecute a set of statements, while recursion uses function calls to repeatedly\\nsolve smaller instances of a problem until a base case is reached.\\n\\n'"
      ]
     },
     "execution_count": 76,
     "metadata": {},
     "output_type": "execute_result"
    }
   ],
   "source": [
    "#1.Explain the concept of recursion in Python. How does it differ from iteration?\n",
    "\n",
    "'''\n",
    "Recursion is a programming technique where a function calls itself in order\n",
    "to solve smaller instances of the same problem. It is a powerful tool in \n",
    "programming that can be used to solve complex problems more elegantly.\n",
    "Recursion is based on the principle of divide and conquer, \n",
    "where a problem is divided into smaller subproblems that are solved\n",
    "recursively.\n",
    "\n",
    "Recursion differs from iteration in that iteration uses a loop to repeatedly\n",
    "execute a set of statements, while recursion uses function calls to repeatedly\n",
    "solve smaller instances of a problem until a base case is reached.\n",
    "\n",
    "'''"
   ]
  },
  {
   "cell_type": "code",
   "execution_count": 77,
   "metadata": {},
   "outputs": [
    {
     "name": "stdout",
     "output_type": "stream",
     "text": [
      "120\n"
     ]
    }
   ],
   "source": [
    "#2.Write a Python program to calculate the factorial of a number using recursion.\n",
    "def factorial(n):\n",
    "    if n == 0:\n",
    "        return 1\n",
    "    else:\n",
    "        return n * factorial(n - 1)\n",
    "result = factorial(5)\n",
    "print(result)  "
   ]
  },
  {
   "cell_type": "code",
   "execution_count": 78,
   "metadata": {},
   "outputs": [
    {
     "name": "stdout",
     "output_type": "stream",
     "text": [
      "8\n"
     ]
    }
   ],
   "source": [
    "#3.Create a recursive Python function to find the nth Fibonacci number.\n",
    "def fibonacci(n):\n",
    "    if n <= 1:\n",
    "        return n\n",
    "    else:\n",
    "        return fibonacci(n - 1) + fibonacci(n - 2)\n",
    "\n",
    "result = fibonacci(6)\n",
    "print(result) "
   ]
  },
  {
   "cell_type": "code",
   "execution_count": 79,
   "metadata": {},
   "outputs": [
    {
     "name": "stdout",
     "output_type": "stream",
     "text": [
      "15\n"
     ]
    }
   ],
   "source": [
    "#4.Write a recursive Python function to calculate the sum of all elements in a list.\n",
    "def list_sum(lst):\n",
    "    if not lst:\n",
    "        return 0\n",
    "    else:\n",
    "        return lst[0] + list_sum(lst[1:])\n",
    "\n",
    "result = list_sum([1, 2, 3, 4, 5])\n",
    "print(result) "
   ]
  },
  {
   "cell_type": "code",
   "execution_count": 80,
   "metadata": {},
   "outputs": [
    {
     "data": {
      "text/plain": [
       "'\\nTo prevent a recursive function from running indefinitely and causing a \\nstack overflow error, you should ensure that the recursive calls eventually\\nreach a base case where no further recursive calls are made. The base case \\nshould be a condition that can be reached from any starting point in the recursion.\\n\\n'"
      ]
     },
     "execution_count": 80,
     "metadata": {},
     "output_type": "execute_result"
    }
   ],
   "source": [
    "#5.How can you prevent a recursive function from running indefinitely, causing a stack overflow error?\n",
    "'''\n",
    "To prevent a recursive function from running indefinitely and causing a \n",
    "stack overflow error, you should ensure that the recursive calls eventually\n",
    "reach a base case where no further recursive calls are made. The base case \n",
    "should be a condition that can be reached from any starting point in the recursion.\n",
    "\n",
    "'''"
   ]
  },
  {
   "cell_type": "code",
   "execution_count": 81,
   "metadata": {},
   "outputs": [
    {
     "name": "stdout",
     "output_type": "stream",
     "text": [
      "6\n"
     ]
    }
   ],
   "source": [
    "#6.Create a recursive Python function to find the greatest common divisor (GCD) of two numbers using the Euclidean algorithm.\n",
    "def gcd(a, b):\n",
    "    if b == 0:\n",
    "        return a\n",
    "    else:\n",
    "        return gcd(b, a % b)\n",
    "\n",
    "result = gcd(48, 18)\n",
    "print(result)  "
   ]
  },
  {
   "cell_type": "code",
   "execution_count": 82,
   "metadata": {},
   "outputs": [
    {
     "name": "stdout",
     "output_type": "stream",
     "text": [
      "olleh\n"
     ]
    }
   ],
   "source": [
    "#7.Write a recursive Python function to reverse a string.\n",
    "def reverse_string(s):\n",
    "    if not s:\n",
    "        return s\n",
    "    else:\n",
    "        return reverse_string(s[1:]) + s[0]\n",
    "\n",
    "result = reverse_string(\"hello\")\n",
    "print(result)  "
   ]
  },
  {
   "cell_type": "code",
   "execution_count": 83,
   "metadata": {},
   "outputs": [
    {
     "name": "stdout",
     "output_type": "stream",
     "text": [
      "8\n"
     ]
    }
   ],
   "source": [
    "#8.Create a recursive Python function to calculate the power of a number (x^n).\n",
    "def power(x, n):\n",
    "    if n == 0:\n",
    "        return 1\n",
    "    else:\n",
    "        return x * power(x, n - 1)\n",
    "\n",
    "result = power(2, 3)\n",
    "print(result)  "
   ]
  },
  {
   "cell_type": "code",
   "execution_count": 84,
   "metadata": {},
   "outputs": [
    {
     "name": "stdout",
     "output_type": "stream",
     "text": [
      "['abc', 'acb', 'bac', 'bca', 'cab', 'cba']\n"
     ]
    }
   ],
   "source": [
    "#9.Write a recursive Python function to find all permutations of a given string.\n",
    "def permutations(s):\n",
    "    if len(s) == 1:\n",
    "        return [s]\n",
    "    else:\n",
    "        perms = []\n",
    "        for i in range(len(s)):\n",
    "            subperms = permutations(s[:i] + s[i+1:])\n",
    "            for perm in subperms:\n",
    "                perms.append(s[i] + perm)\n",
    "        return perms\n",
    "\n",
    "result = permutations(\"abc\")\n",
    "print(result)"
   ]
  },
  {
   "cell_type": "code",
   "execution_count": 85,
   "metadata": {},
   "outputs": [
    {
     "name": "stdout",
     "output_type": "stream",
     "text": [
      "True\n",
      "False\n"
     ]
    }
   ],
   "source": [
    "#10.Write a recursive Python function to find all permutations of a given string.\n",
    "def is_palindrome(s):\n",
    "    if len(s) <= 1:\n",
    "        return True\n",
    "    else:\n",
    "        return s[0] == s[-1] and is_palindrome(s[1:-1])\n",
    "\n",
    "result1 = is_palindrome(\"racecar\")\n",
    "result2 = is_palindrome(\"hello\")\n",
    "\n",
    "print(result1)  \n",
    "print(result2)"
   ]
  },
  {
   "cell_type": "code",
   "execution_count": 86,
   "metadata": {},
   "outputs": [
    {
     "name": "stdout",
     "output_type": "stream",
     "text": [
      "[[], [3], [2], [2, 3], [1], [1, 3], [1, 2], [1, 2, 3]]\n"
     ]
    }
   ],
   "source": [
    "#11.Create a recursive Python function to generate all possible combinations of a list of elements.\n",
    "def combinations(elements):\n",
    "    if not elements:\n",
    "        return [[]]\n",
    "    else:\n",
    "        first = elements[0]\n",
    "        rest = elements[1:]\n",
    "        rest_combinations = combinations(rest)\n",
    "        return rest_combinations + [[first] + rest_combo for rest_combo in rest_combinations]\n",
    "\n",
    "result = combinations([1, 2, 3])\n",
    "print(result) "
   ]
  },
  {
   "cell_type": "code",
   "execution_count": 87,
   "metadata": {},
   "outputs": [],
   "source": [
    "#Basic of Function:-"
   ]
  },
  {
   "cell_type": "code",
   "execution_count": 88,
   "metadata": {},
   "outputs": [
    {
     "data": {
      "text/plain": [
       "'\\nA function in Python is a block of reusable code that performs\\na specific task. Functions provide modularity and reusability to\\nyour code by allowing you to break it into smaller, manageable parts.\\nFunctions can take inputs, called arguments, \\nperform operations, and return outputs.\\n'"
      ]
     },
     "execution_count": 88,
     "metadata": {},
     "output_type": "execute_result"
    }
   ],
   "source": [
    "#1.What is a function in Python, and why is it used?\n",
    "'''\n",
    "A function in Python is a block of reusable code that performs\n",
    "a specific task. Functions provide modularity and reusability to\n",
    "your code by allowing you to break it into smaller, manageable parts.\n",
    "Functions can take inputs, called arguments, \n",
    "perform operations, and return outputs.\n",
    "'''"
   ]
  },
  {
   "cell_type": "code",
   "execution_count": 89,
   "metadata": {},
   "outputs": [
    {
     "data": {
      "text/plain": [
       "'\\nTo define a function in Python, you use the def keyword followed by the\\nfunction name and parentheses containing any arguments the function takes.\\nHere an example of a simple function that calculates the sum of two numbers:-\\n\\ndef add_numbers(a, b):\\n    return a + b\\n'"
      ]
     },
     "execution_count": 89,
     "metadata": {},
     "output_type": "execute_result"
    }
   ],
   "source": [
    "#2.How do you define a function in Python? Provide an example.\n",
    "'''\n",
    "To define a function in Python, you use the def keyword followed by the\n",
    "function name and parentheses containing any arguments the function takes.\n",
    "Here an example of a simple function that calculates the sum of two numbers:-\n",
    "\n",
    "def add_numbers(a, b):\n",
    "    return a + b\n",
    "'''"
   ]
  },
  {
   "cell_type": "code",
   "execution_count": 90,
   "metadata": {},
   "outputs": [
    {
     "data": {
      "text/plain": [
       "'\\nThe difference between a function definition and a function call is that\\nthe definition establishes the function name, arguments, and implementation,\\nwhile the call actually executes the function with specific arguments.\\nHere an example of calling the add_numbers function defined earlier:-\\n\\nresult = add_numbers(3, 5)\\nprint(result)  # Output: 8\\n\\n'"
      ]
     },
     "execution_count": 90,
     "metadata": {},
     "output_type": "execute_result"
    }
   ],
   "source": [
    "#3.Explain the difference between a function definition and a function call.\n",
    "'''\n",
    "The difference between a function definition and a function call is that\n",
    "the definition establishes the function name, arguments, and implementation,\n",
    "while the call actually executes the function with specific arguments.\n",
    "Here an example of calling the add_numbers function defined earlier:-\n",
    "\n",
    "result = add_numbers(3, 5)\n",
    "print(result)  # Output: 8\n",
    "\n",
    "'''"
   ]
  },
  {
   "cell_type": "code",
   "execution_count": 91,
   "metadata": {},
   "outputs": [
    {
     "name": "stdout",
     "output_type": "stream",
     "text": [
      "8\n"
     ]
    }
   ],
   "source": [
    "#4.Write a Python program that defines a function to calculate the sum of two numbers and then calls the function\n",
    "\n",
    "def add_numbers(a, b):\n",
    "    return a + b\n",
    "\n",
    "# Call \n",
    "result = add_numbers(3, 5)\n",
    "print(result) "
   ]
  },
  {
   "cell_type": "code",
   "execution_count": 92,
   "metadata": {},
   "outputs": [
    {
     "data": {
      "text/plain": [
       "'\\nA function signature typically includes the name of the function, the number\\nand types of its arguments, and its return type. In languages like C or Java,\\nfunction signatures are explicitly declared, including the argument types and\\nthe return type. However, in Python, function signatures are not explicitly\\ndeclared in the same way due to Python dynamic typing. Nonetheless, \\nthe concept of a function signature can still be applied informally to \\ndescribe the function name, arguments, and return type.\\n\\nFor example, the function signature of a Python function that takes \\ntwo integers and returns their sum would be:-\\n\\nadd_numbers(int, int) -> int\\n\\n'"
      ]
     },
     "execution_count": 92,
     "metadata": {},
     "output_type": "execute_result"
    }
   ],
   "source": [
    "#5.What is a function signature, and what information does it typically include?\n",
    "\n",
    "'''\n",
    "A function signature typically includes the name of the function, the number\n",
    "and types of its arguments, and its return type. In languages like C or Java,\n",
    "function signatures are explicitly declared, including the argument types and\n",
    "the return type. However, in Python, function signatures are not explicitly\n",
    "declared in the same way due to Python dynamic typing. Nonetheless, \n",
    "the concept of a function signature can still be applied informally to \n",
    "describe the function name, arguments, and return type.\n",
    "\n",
    "For example, the function signature of a Python function that takes \n",
    "two integers and returns their sum would be:-\n",
    "\n",
    "add_numbers(int, int) -> int\n",
    "\n",
    "'''"
   ]
  },
  {
   "cell_type": "code",
   "execution_count": 120,
   "metadata": {},
   "outputs": [],
   "source": [
    "#6.Create a Python function that takes two arguments and returns their product.\n",
    "def multiply(x, y):\n",
    "    return x * y\n"
   ]
  },
  {
   "cell_type": "code",
   "execution_count": 95,
   "metadata": {},
   "outputs": [],
   "source": [
    "#function parameter and argument:-"
   ]
  },
  {
   "cell_type": "code",
   "execution_count": 96,
   "metadata": {},
   "outputs": [
    {
     "data": {
      "text/plain": [
       "'\\nIn Python functions, formal parameters are placeholders for the values that\\nwill be passed into the function when it is called. They are the names\\nspecified in the function definition. Actual arguments, on the other hand,\\nare the values that are passed into the function when it is called.\\nThey are the values that are actually used by the function during execution.\\n\\n'"
      ]
     },
     "execution_count": 96,
     "metadata": {},
     "output_type": "execute_result"
    }
   ],
   "source": [
    "#1.Explain the concepts of formal parameters and actual arguments in Python functions.\n",
    "\n",
    "\"\"\"\n",
    "In Python functions, formal parameters are placeholders for the values that\n",
    "will be passed into the function when it is called. They are the names\n",
    "specified in the function definition. Actual arguments, on the other hand,\n",
    "are the values that are passed into the function when it is called.\n",
    "They are the values that are actually used by the function during execution.\n",
    "\n",
    "\"\"\""
   ]
  },
  {
   "cell_type": "code",
   "execution_count": 97,
   "metadata": {},
   "outputs": [
    {
     "name": "stdout",
     "output_type": "stream",
     "text": [
      "Hello, World!\n",
      "Hello, Alice!\n"
     ]
    }
   ],
   "source": [
    "#2.Write a Python program that defines a function with default argument values.\n",
    "def greet(name=\"World\"):\n",
    "    return f\"Hello, {name}!\"\n",
    "\n",
    "print(greet())  \n",
    "print(greet(\"Alice\"))"
   ]
  },
  {
   "cell_type": "code",
   "execution_count": 98,
   "metadata": {},
   "outputs": [
    {
     "data": {
      "text/plain": [
       "'\\nIn Python, keyword arguments allow you to pass arguments to a function using \\nthe parameter names, which can make the code more readable and self-explanatory. \\nYou can specify the parameter names\\nfollowed by the = sign and the argument value when calling a function.\\n\\n'"
      ]
     },
     "execution_count": 98,
     "metadata": {},
     "output_type": "execute_result"
    }
   ],
   "source": [
    "#3.How do you use keyword arguments in Python function calls? Provide an example.\n",
    "'''\n",
    "In Python, keyword arguments allow you to pass arguments to a function using \n",
    "the parameter names, which can make the code more readable and self-explanatory. \n",
    "You can specify the parameter names\n",
    "followed by the = sign and the argument value when calling a function.\n",
    "\n",
    "'''"
   ]
  },
  {
   "cell_type": "code",
   "execution_count": 100,
   "metadata": {},
   "outputs": [
    {
     "data": {
      "text/plain": [
       "'\\n*args is used to pass a variable number of positional arguments to the \\nfunction. It collects all the positional arguments \\ninto a tuple. Here an example:-\\ndef sum_all(*args):\\n    return sum(args)\\n\\nprint(sum_all(1, 2, 3, 4, 5)) \\n\\n'"
      ]
     },
     "execution_count": 100,
     "metadata": {},
     "output_type": "execute_result"
    }
   ],
   "source": [
    "#4.Create a Python function that accepts a variable number of arguments and calculates their sum.\n",
    "'''\n",
    "*args is used to pass a variable number of positional arguments to the \n",
    "function. It collects all the positional arguments \n",
    "into a tuple. Here an example:-\n",
    "def sum_all(*args):\n",
    "    return sum(args)\n",
    "\n",
    "print(sum_all(1, 2, 3, 4, 5)) \n",
    "\n",
    "'''"
   ]
  },
  {
   "cell_type": "code",
   "execution_count": 101,
   "metadata": {},
   "outputs": [
    {
     "data": {
      "text/plain": [
       "'\\n**kwargs is used to pass a variable number of keyword arguments to the function.\\nIt collects all the keyword arguments into a dictionary.\\nHere an example:-\\n\\ndef print_info(**kwargs):\\n    for key, value in kwargs.items():\\n        print(f\"{key}: {value}\")\\n\\nprint_info(name=\"Alice\", age=30, city=\"New York\")\\n\\n'"
      ]
     },
     "execution_count": 101,
     "metadata": {},
     "output_type": "execute_result"
    }
   ],
   "source": [
    "#5.What is the purpose of the `*args` and `**kwargs` syntax in function parameter lists?\n",
    "\n",
    "'''\n",
    "**kwargs is used to pass a variable number of keyword arguments to the function.\n",
    "It collects all the keyword arguments into a dictionary.\n",
    "Here an example:-\n",
    "\n",
    "def print_info(**kwargs):\n",
    "    for key, value in kwargs.items():\n",
    "        print(f\"{key}: {value}\")\n",
    "\n",
    "print_info(name=\"Alice\", age=30, city=\"New York\")\n",
    "\n",
    "'''"
   ]
  },
  {
   "cell_type": "code",
   "execution_count": 102,
   "metadata": {},
   "outputs": [],
   "source": [
    "#Return value and scoping"
   ]
  },
  {
   "cell_type": "code",
   "execution_count": 103,
   "metadata": {},
   "outputs": [
    {
     "data": {
      "text/plain": [
       "'\\nThe return statement in Python functions is used to exit the function \\nand return a value to the caller. It allows you to specify the result \\nof the function that can be used in the rest of your program. If a return \\nstatement is not present in a function, the function will return None by \\ndefault.\\n\\nHere an example of a function that calculates the square of a number and \\nreturns it:-\\n\\ndef square(x):\\n    return x * x\\n\\nresult = square(5)\\nprint(result)\\n\\n'"
      ]
     },
     "execution_count": 103,
     "metadata": {},
     "output_type": "execute_result"
    }
   ],
   "source": [
    "#1.Describe the role of the `return` statement in Python functions and provide examples.\n",
    "'''\n",
    "The return statement in Python functions is used to exit the function \n",
    "and return a value to the caller. It allows you to specify the result \n",
    "of the function that can be used in the rest of your program. If a return \n",
    "statement is not present in a function, the function will return None by \n",
    "default.\n",
    "\n",
    "Here an example of a function that calculates the square of a number and \n",
    "returns it:-\n",
    "\n",
    "def square(x):\n",
    "    return x * x\n",
    "\n",
    "result = square(5)\n",
    "print(result)\n",
    "\n",
    "'''"
   ]
  },
  {
   "cell_type": "code",
   "execution_count": 104,
   "metadata": {},
   "outputs": [
    {
     "data": {
      "text/plain": [
       "'\\nVariable scope in Python refers to the visibility and lifetime of variables within a program.\\nThere are two main types of variable scope in Python:\\n\\nLocal scope: Variables defined inside a function have local scope, which means\\nthey can only be accessed within that function. These variables are created\\nwhen the function is called and destroyed when the function returns.\\n\\nGlobal scope: Variables defined outside of any function have global scope,\\nwhich means they can be accessed from anywhere in the program. These variables\\nare created when the program starts and exist until the program terminates.\\n\\n'"
      ]
     },
     "execution_count": 104,
     "metadata": {},
     "output_type": "execute_result"
    }
   ],
   "source": [
    "#2.Explain the concept of variable scope in Python, including local and global variables.\n",
    "\n",
    "'''\n",
    "Variable scope in Python refers to the visibility and lifetime of variables within a program.\n",
    "There are two main types of variable scope in Python:\n",
    "\n",
    "Local scope: Variables defined inside a function have local scope, which means\n",
    "they can only be accessed within that function. These variables are created\n",
    "when the function is called and destroyed when the function returns.\n",
    "\n",
    "Global scope: Variables defined outside of any function have global scope,\n",
    "which means they can be accessed from anywhere in the program. These variables\n",
    "are created when the program starts and exist until the program terminates.\n",
    "\n",
    "'''"
   ]
  },
  {
   "cell_type": "code",
   "execution_count": 105,
   "metadata": {},
   "outputs": [
    {
     "name": "stdout",
     "output_type": "stream",
     "text": [
      "15\n"
     ]
    }
   ],
   "source": [
    "#3.Write a Python program that demonstrates the use of global variables within functions.\n",
    "global_var = 10\n",
    "\n",
    "def add_to_global(x):\n",
    "    global global_var\n",
    "    global_var += x\n",
    "\n",
    "add_to_global(5)\n",
    "print(global_var)"
   ]
  },
  {
   "cell_type": "code",
   "execution_count": 106,
   "metadata": {},
   "outputs": [
    {
     "name": "stdout",
     "output_type": "stream",
     "text": [
      "120\n"
     ]
    }
   ],
   "source": [
    "#4.Create a Python function that calculates the factorial of a number and returns it.\n",
    "def factorial(n):\n",
    "    if n == 0:\n",
    "        return 1\n",
    "    else:\n",
    "        return n * factorial(n-1)\n",
    "\n",
    "# Test the factorial function\n",
    "result = factorial(5)\n",
    "print(result) "
   ]
  },
  {
   "cell_type": "code",
   "execution_count": 107,
   "metadata": {},
   "outputs": [
    {
     "data": {
      "text/plain": [
       "\"\\nTo access variables defined outside a function from within the function, \\nyou can use the global keyword to declare the variable as a global variable.\\nHowever, it generally not recommended to use global variables in this way,\\nas it can lead to code that is difficult to understand and maintain. Instead,\\nyou can pass the variable as \\nan argument to the function or return the variable's value from the function.\\n\\n\""
      ]
     },
     "execution_count": 107,
     "metadata": {},
     "output_type": "execute_result"
    }
   ],
   "source": [
    "#5.How can you access variables defined outside a function from within the function?\n",
    "\n",
    "'''\n",
    "To access variables defined outside a function from within the function, \n",
    "you can use the global keyword to declare the variable as a global variable.\n",
    "However, it generally not recommended to use global variables in this way,\n",
    "as it can lead to code that is difficult to understand and maintain. Instead,\n",
    "you can pass the variable as \n",
    "an argument to the function or return the variable's value from the function.\n",
    "\n",
    "'''"
   ]
  },
  {
   "cell_type": "code",
   "execution_count": 108,
   "metadata": {},
   "outputs": [],
   "source": [
    "#lambda function and higher order functon"
   ]
  },
  {
   "cell_type": "code",
   "execution_count": 109,
   "metadata": {},
   "outputs": [
    {
     "data": {
      "text/plain": [
       "'\\nLambda functions in Python are small, anonymous functions defined using the\\nlambda keyword. They are often used when you need a simple function for a \\nshort period of time and dont want to define a named function using the def\\nkeyword. \\nLambda functions can take any number of arguments, but can only have one expression.\\n\\nLambda functions are typically used in situations where you need to pass a \\nsimple function as an argument to another function,\\n such as when using the map(), filter(), or sorted() functions.\\n \\n \\n '"
      ]
     },
     "execution_count": 109,
     "metadata": {},
     "output_type": "execute_result"
    }
   ],
   "source": [
    "#1.What are lambda functions in Python, and when are they typically used?\n",
    "'''\n",
    "Lambda functions in Python are small, anonymous functions defined using the\n",
    "lambda keyword. They are often used when you need a simple function for a \n",
    "short period of time and dont want to define a named function using the def\n",
    "keyword. \n",
    "Lambda functions can take any number of arguments, but can only have one expression.\n",
    "\n",
    "Lambda functions are typically used in situations where you need to pass a \n",
    "simple function as an argument to another function,\n",
    " such as when using the map(), filter(), or sorted() functions.\n",
    " \n",
    " \n",
    " '''"
   ]
  },
  {
   "cell_type": "code",
   "execution_count": 110,
   "metadata": {},
   "outputs": [
    {
     "name": "stdout",
     "output_type": "stream",
     "text": [
      "[(7, 1), (3, 2), (4, 3), (1, 5)]\n"
     ]
    }
   ],
   "source": [
    "#2.Write a Python program that uses lambda functions to sort a list of tuples based on the second element.\n",
    "data = [(1, 5), (3, 2), (7, 1), (4, 3)]\n",
    "sorted_data = sorted(data, key=lambda x: x[1])\n",
    "print(sorted_data) "
   ]
  },
  {
   "cell_type": "code",
   "execution_count": 112,
   "metadata": {},
   "outputs": [
    {
     "data": {
      "text/plain": [
       "'\\nHigher-order functions in Python are functions that can take other functions\\nas arguments or return functions as results.\\nThey allow you to abstract over actions, not just data, and can make your\\ncode more concise and readable.\\n\\nHere an example of a higher-order function that takes a list of numbers \\nand a function as arguments, applying the function to each element in the list:\\n    \\n    def apply_function_to_list(func, lst):\\n    return [func(x) for x in lst]\\n\\nnumbers = [1, 2, 3, 4, 5]\\nsquared_numbers = apply_function_to_list(lambda x: x ** 2, numbers)\\nprint(squared_numbers)\\n\\n'"
      ]
     },
     "execution_count": 112,
     "metadata": {},
     "output_type": "execute_result"
    }
   ],
   "source": [
    "#3.Explain the concept of higher-order functions in Python, and provide an example.\n",
    "'''\n",
    "Higher-order functions in Python are functions that can take other functions\n",
    "as arguments or return functions as results.\n",
    "They allow you to abstract over actions, not just data, and can make your\n",
    "code more concise and readable.\n",
    "\n",
    "Here an example of a higher-order function that takes a list of numbers \n",
    "and a function as arguments, applying the function to each element in the list:\n",
    "    \n",
    "    def apply_function_to_list(func, lst):\n",
    "    return [func(x) for x in lst]\n",
    "\n",
    "numbers = [1, 2, 3, 4, 5]\n",
    "squared_numbers = apply_function_to_list(lambda x: x ** 2, numbers)\n",
    "print(squared_numbers)\n",
    "\n",
    "'''"
   ]
  },
  {
   "cell_type": "code",
   "execution_count": 113,
   "metadata": {},
   "outputs": [
    {
     "name": "stdout",
     "output_type": "stream",
     "text": [
      "[1, 4, 9, 16, 25]\n"
     ]
    }
   ],
   "source": [
    "#4.Create a Python function that takes a list of numbers and a function as arguments, applying the function to each element in the list.\n",
    "def apply_function_to_list(func, lst):\n",
    "    return [func(x) for x in lst]\n",
    "\n",
    "numbers = [1, 2, 3, 4, 5]\n",
    "\n",
    "square = lambda x: x ** 2\n",
    "\n",
    "squared_numbers = apply_function_to_list(square, numbers)\n",
    "print(squared_numbers)"
   ]
  },
  {
   "cell_type": "code",
   "execution_count": 114,
   "metadata": {},
   "outputs": [],
   "source": [
    "#Build in function"
   ]
  },
  {
   "cell_type": "code",
   "execution_count": 115,
   "metadata": {},
   "outputs": [
    {
     "data": {
      "text/plain": [
       "'\\nBuilt-in functions like len(), max(), and min() in Python are used to perform\\ncommon operations on data structures like lists, tuples, strings, and others.\\n\\nlen() returns the length (number of items) of an object. For example, len([1, 2, 3]) returns 3.\\nmax() returns the maximum value in an iterable. For example, max([1, 2, 3]) returns 3.\\nmin() returns the minimum value in an iterable. For example, min([1, 2, 3]) returns 1.\\n\\n'"
      ]
     },
     "execution_count": 115,
     "metadata": {},
     "output_type": "execute_result"
    }
   ],
   "source": [
    "#1.Describe the role of built-in functions like `len()`, `max()`, and `min()` in Python.\n",
    "\n",
    "'''\n",
    "Built-in functions like len(), max(), and min() in Python are used to perform\n",
    "common operations on data structures like lists, tuples, strings, and others.\n",
    "\n",
    "len() returns the length (number of items) of an object. For example, len([1, 2, 3]) returns 3.\n",
    "max() returns the maximum value in an iterable. For example, max([1, 2, 3]) returns 3.\n",
    "min() returns the minimum value in an iterable. For example, min([1, 2, 3]) returns 1.\n",
    "\n",
    "'''"
   ]
  },
  {
   "cell_type": "code",
   "execution_count": 116,
   "metadata": {},
   "outputs": [
    {
     "data": {
      "text/plain": [
       "'\\nThe map() function takes a function square and a list numbers, \\nand applies the square function to each element\\nof numbers, returning a new list with the squared values.\\n\\n'"
      ]
     },
     "execution_count": 116,
     "metadata": {},
     "output_type": "execute_result"
    }
   ],
   "source": [
    "#2.Write a Python program that uses the `map()` function to apply a function to each element of a list.\n",
    "'''\n",
    "The map() function takes a function square and a list numbers, \n",
    "and applies the square function to each element\n",
    "of numbers, returning a new list with the squared values.\n",
    "\n",
    "'''"
   ]
  },
  {
   "cell_type": "code",
   "execution_count": 117,
   "metadata": {},
   "outputs": [
    {
     "data": {
      "text/plain": [
       "'\\nThe map() function takes a function square and a list numbers, and applies\\nthe square function to each \\nelement of numbers, returning a new list with the squared values.\\n\\ndef is_even(x):\\n    return x % 2 == 0\\n\\nnumbers = [1, 2, 3, 4, 5, 6, 7, 8, 9, 10]\\neven_numbers = list(filter(is_even, numbers))\\nprint(even_numbers)  # Output: [2, 4, 6, 8, 10]\\n\\n'"
      ]
     },
     "execution_count": 117,
     "metadata": {},
     "output_type": "execute_result"
    }
   ],
   "source": [
    "#3.How does the `filter()` function work in Python, and when would you use it?\n",
    "'''\n",
    "The map() function takes a function square and a list numbers, and applies\n",
    "the square function to each \n",
    "element of numbers, returning a new list with the squared values.\n",
    "\n",
    "def is_even(x):\n",
    "    return x % 2 == 0\n",
    "\n",
    "numbers = [1, 2, 3, 4, 5, 6, 7, 8, 9, 10]\n",
    "even_numbers = list(filter(is_even, numbers))\n",
    "print(even_numbers)  # Output: [2, 4, 6, 8, 10]\n",
    "\n",
    "'''"
   ]
  },
  {
   "cell_type": "code",
   "execution_count": 118,
   "metadata": {},
   "outputs": [
    {
     "name": "stdout",
     "output_type": "stream",
     "text": [
      "120\n"
     ]
    }
   ],
   "source": [
    "#4.Create a Python program that uses the `reduce()` function to find the product of all elements in a list.\n",
    "from functools import reduce\n",
    "\n",
    "def multiply(x, y):\n",
    "    return x * y\n",
    "\n",
    "numbers = [1, 2, 3, 4, 5]\n",
    "product = reduce(multiply, numbers)\n",
    "print(product)"
   ]
  },
  {
   "cell_type": "code",
   "execution_count": 119,
   "metadata": {},
   "outputs": [],
   "source": [
    "#Function Documentation and Best Practices:"
   ]
  },
  {
   "cell_type": "code",
   "execution_count": 121,
   "metadata": {},
   "outputs": [
    {
     "data": {
      "text/plain": [
       "'\\n\\nDocstrings in Python functions serve the purpose of documenting\\nthe functionality of the function. \\nThey are used to provide a description of what the function does, what \\narguments it takes, what it returns, and any other relevant information that\\nhelps users understand how to use the function.\\n\\nTo write a docstring for a function, you simply add a string \\nliteral as the first statement in the function body.\\n\\n'"
      ]
     },
     "execution_count": 121,
     "metadata": {},
     "output_type": "execute_result"
    }
   ],
   "source": [
    "#1.Explain the purpose of docstrings in Python functions and how to write them.\n",
    "'''\n",
    "\n",
    "Docstrings in Python functions serve the purpose of documenting\n",
    "the functionality of the function. \n",
    "They are used to provide a description of what the function does, what \n",
    "arguments it takes, what it returns, and any other relevant information that\n",
    "helps users understand how to use the function.\n",
    "\n",
    "To write a docstring for a function, you simply add a string \n",
    "literal as the first statement in the function body.\n",
    "\n",
    "'''"
   ]
  },
  {
   "cell_type": "code",
   "execution_count": 122,
   "metadata": {},
   "outputs": [
    {
     "data": {
      "text/plain": [
       "'\\nIn Python, there are several best practices for naming functions and variables to make your code more readable and maintainable. Here are some guidelines and conventions:\\n\\n1. Use descriptive names: Choose names that accurately describe the purpose or functionality of the function or variable. This makes your code easier to understand for other developers.\\n\\n2. Use lowercase for function and variable names: Use lowercase letters and underscores to separate words in function and variable names. For example, `calculate_sum`, `is_valid`, `user_name`.\\n\\n3. Use lowercase for module names: Module names should be lowercase, short, and descriptive. Avoid using underscores in module names unless necessary.\\n\\n4. Use CamelCase for class names: Use CamelCase (capitalize the first letter of each word) for class names to distinguish them from functions and variables. For example, `MyClass`, `CarModel`.\\n\\n5. Use meaningful and specific names: Avoid using generic names like `data`, `temp`, or single-letter names like `x`, `y`. Use names that convey the purpose or content of the variable or function.\\n\\n6. Be consistent: Follow the same naming convention throughout your codebase to maintain consistency and make it easier for others to understand your code.\\n\\n7. Avoid using reserved words: Do not use reserved words or built-in function names as variable or function names to avoid confusion and potential conflicts.\\n\\n8. Use underscores for variable names with multiple words: If a variable name consists of multiple words, use underscores to separate them for readability. For example, `first_name`, `last_name`.\\n\\n9. Use verbs for function names: Function names should typically start with a verb to indicate the action or operation performed by the function. For example, `calculate_sum`, `get_user_info`.\\n\\n10. Use nouns for variable names: Variable names should typically be nouns or noun phrases that describe the data or content they represent. For example, `user_name`, `product_list`.\\n\\n'"
      ]
     },
     "execution_count": 122,
     "metadata": {},
     "output_type": "execute_result"
    }
   ],
   "source": [
    "#2.Describe some best practices for naming functions and variables in Python, including naming conventions and guidelines.\n",
    "\n",
    "'''\n",
    "In Python, there are several best practices for naming functions and variables to make your code more readable and maintainable. Here are some guidelines and conventions:\n",
    "\n",
    "1. Use descriptive names: Choose names that accurately describe the purpose or functionality of the function or variable. This makes your code easier to understand for other developers.\n",
    "\n",
    "2. Use lowercase for function and variable names: Use lowercase letters and underscores to separate words in function and variable names. For example, `calculate_sum`, `is_valid`, `user_name`.\n",
    "\n",
    "3. Use lowercase for module names: Module names should be lowercase, short, and descriptive. Avoid using underscores in module names unless necessary.\n",
    "\n",
    "4. Use CamelCase for class names: Use CamelCase (capitalize the first letter of each word) for class names to distinguish them from functions and variables. For example, `MyClass`, `CarModel`.\n",
    "\n",
    "5. Use meaningful and specific names: Avoid using generic names like `data`, `temp`, or single-letter names like `x`, `y`. Use names that convey the purpose or content of the variable or function.\n",
    "\n",
    "6. Be consistent: Follow the same naming convention throughout your codebase to maintain consistency and make it easier for others to understand your code.\n",
    "\n",
    "7. Avoid using reserved words: Do not use reserved words or built-in function names as variable or function names to avoid confusion and potential conflicts.\n",
    "\n",
    "8. Use underscores for variable names with multiple words: If a variable name consists of multiple words, use underscores to separate them for readability. For example, `first_name`, `last_name`.\n",
    "\n",
    "9. Use verbs for function names: Function names should typically start with a verb to indicate the action or operation performed by the function. For example, `calculate_sum`, `get_user_info`.\n",
    "\n",
    "10. Use nouns for variable names: Variable names should typically be nouns or noun phrases that describe the data or content they represent. For example, `user_name`, `product_list`.\n",
    "\n",
    "'''"
   ]
  },
  {
   "cell_type": "code",
   "execution_count": null,
   "metadata": {},
   "outputs": [],
   "source": []
  }
 ],
 "metadata": {
  "kernelspec": {
   "display_name": "Python 3",
   "language": "python",
   "name": "python3"
  },
  "language_info": {
   "codemirror_mode": {
    "name": "ipython",
    "version": 3
   },
   "file_extension": ".py",
   "mimetype": "text/x-python",
   "name": "python",
   "nbconvert_exporter": "python",
   "pygments_lexer": "ipython3",
   "version": "3.11.5"
  }
 },
 "nbformat": 4,
 "nbformat_minor": 2
}
